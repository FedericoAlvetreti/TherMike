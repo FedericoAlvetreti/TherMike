{
 "cells": [
  {
   "cell_type": "code",
   "execution_count": 47,
   "metadata": {},
   "outputs": [],
   "source": [
    "import pydub as pdb\n",
    "import os \n",
    "import tqdm\n",
    "import librosa\n",
    "import numpy as np\n",
    "\n",
    "import skfda\n",
    "import math \n",
    "\n",
    "from scipy.optimize import minimize\n",
    "from matplotlib import pyplot as plt"
   ]
  },
  {
   "cell_type": "code",
   "execution_count": 46,
   "metadata": {},
   "outputs": [
    {
     "name": "stdout",
     "output_type": "stream",
     "text": [
      "Note: you may need to restart the kernel to use updated packages.\n"
     ]
    },
    {
     "name": "stderr",
     "output_type": "stream",
     "text": [
      "WARNING: Ignoring invalid distribution -rotobuf (c:\\users\\leonardo\\appdata\\local\\programs\\python\\python310\\lib\\site-packages)\n",
      "WARNING: Ignoring invalid distribution -rotobuf (c:\\users\\leonardo\\appdata\\local\\programs\\python\\python310\\lib\\site-packages)\n",
      "WARNING: Ignoring invalid distribution -rotobuf (c:\\users\\leonardo\\appdata\\local\\programs\\python\\python310\\lib\\site-packages)\n",
      "WARNING: Ignoring invalid distribution -rotobuf (c:\\users\\leonardo\\appdata\\local\\programs\\python\\python310\\lib\\site-packages)\n",
      "WARNING: Ignoring invalid distribution -rotobuf (c:\\users\\leonardo\\appdata\\local\\programs\\python\\python310\\lib\\site-packages)\n",
      "WARNING: Ignoring invalid distribution -rotobuf (c:\\users\\leonardo\\appdata\\local\\programs\\python\\python310\\lib\\site-packages)\n",
      "\n",
      "[notice] A new release of pip available: 22.2.2 -> 23.2.1\n",
      "[notice] To update, run: python.exe -m pip install --upgrade pip\n"
     ]
    },
    {
     "name": "stdout",
     "output_type": "stream",
     "text": [
      "Requirement already satisfied: scipy in c:\\users\\leonardo\\appdata\\local\\programs\\python\\python310\\lib\\site-packages (1.10.1)\n",
      "Requirement already satisfied: numpy<1.27.0,>=1.19.5 in c:\\users\\leonardo\\appdata\\local\\programs\\python\\python310\\lib\\site-packages (from scipy) (1.24.1)\n"
     ]
    }
   ],
   "source": [
    "pip install scipy"
   ]
  },
  {
   "cell_type": "code",
   "execution_count": 2,
   "metadata": {},
   "outputs": [],
   "source": [
    "our_files = os.listdir('processed-recs')\n",
    "paper_files = os.listdir('processed-recs-paper')"
   ]
  },
  {
   "cell_type": "code",
   "execution_count": 4,
   "metadata": {},
   "outputs": [],
   "source": [
    "dic_1 = {file:{'Label':None,\n",
    "             'Author':None,\n",
    "             'MFCC':None} for file in our_files}\n",
    "\n",
    "dic_2 = {file:{'Label':None,\n",
    "               'MFCC':None} for file in paper_files}"
   ]
  },
  {
   "cell_type": "code",
   "execution_count": 5,
   "metadata": {},
   "outputs": [
    {
     "name": "stderr",
     "output_type": "stream",
     "text": [
      "  0%|          | 0/253 [00:00<?, ?it/s]"
     ]
    },
    {
     "name": "stderr",
     "output_type": "stream",
     "text": [
      "100%|██████████| 253/253 [00:03<00:00, 72.49it/s] \n",
      "100%|██████████| 333/333 [00:01<00:00, 167.97it/s]\n"
     ]
    }
   ],
   "source": [
    "for file in tqdm.tqdm(our_files):\n",
    "    path = 'processed-recs/' + file\n",
    "    audio, _ = librosa.load(path, sr=None)  \n",
    "    dic_1[file]['MFCC'] = librosa.feature.mfcc(y=audio, sr=44100, n_mfcc=12)\n",
    "    dic_1[file]['Author'] = file.split('_')[2]\n",
    "    dic_1[file]['Label']  = float(file.split('_')[3][:-4])\n",
    "\n",
    "for file in tqdm.tqdm(paper_files):\n",
    "    path = 'processed-recs-paper/' + file\n",
    "    audio, _ = librosa.load(path, sr=None)\n",
    "    dic_2[file]['MFCC'] = librosa.feature.mfcc(y=audio, sr=44100, n_mfcc=12)\n",
    "    dic_2[file]['Label'] = float(file.split('_')[3][:-4])"
   ]
  },
  {
   "cell_type": "code",
   "execution_count": null,
   "metadata": {},
   "outputs": [],
   "source": [
    "dic_1"
   ]
  },
  {
   "cell_type": "code",
   "execution_count": 7,
   "metadata": {},
   "outputs": [],
   "source": [
    "# Functional tool kit\n",
    "\n",
    "basis = skfda.representation.basis.Fourier(n_basis=80)\n",
    "\n",
    "def FDA_generator(array):\n",
    "    points = np.linspace(0,1,len(array))\n",
    "    fd_obj = skfda.FDataGrid(data_matrix=[array],\n",
    "                             grid_points=points)\n",
    "    return fd_obj\n",
    "\n",
    "# First transform pipeline: retrieve eGFC from the extracted features\n",
    "\n",
    "def processing(matrix, basis):\n",
    "    output = np.zeros((np.shape(matrix)[0],basis.n_basis))\n",
    "    for i in range(0,np.shape(matrix)[0]):\n",
    "        fda_obj = FDA_generator(matrix[i,])\n",
    "        output[i,:] = fda_obj.to_basis(basis).coefficients\n",
    "    return output"
   ]
  },
  {
   "cell_type": "code",
   "execution_count": 8,
   "metadata": {},
   "outputs": [
    {
     "name": "stderr",
     "output_type": "stream",
     "text": [
      "100%|██████████| 333/333 [00:09<00:00, 36.51it/s]\n"
     ]
    }
   ],
   "source": [
    "design_tensor = np.zeros((12,81,len(dic_2.values())))\n",
    "\n",
    "for i in tqdm.tqdm(range(len(dic_2.keys()))):\n",
    "    key = list(dic_2.keys())[i]\n",
    "    design_tensor[:,:,i] = processing(dic_2[key]['MFCC'],basis)\n",
    "\n",
    "y_true = np.array([dic_2[key]['Label'] for key in dic_2.keys()])"
   ]
  },
  {
   "cell_type": "code",
   "execution_count": 73,
   "metadata": {},
   "outputs": [],
   "source": [
    "# Non-parametric regression on a vectorial functional space \n",
    "\n",
    "def K(t):\n",
    "    return(0.5*np.exp(-0.5*t**2))\n",
    "\n",
    "def L2(x1,x2):\n",
    "    return np.linalg.norm(x1-x2)\n",
    "\n",
    "def mNorm(X):\n",
    "    return np.sqrt(np.max(np.abs(np.linalg.eigvals(np.matmul(np.transpose(X),X)))))\n",
    "\n",
    "def VF_dist(X1,X2):\n",
    "    L = np.shape(X1)[0]\n",
    "    D = np.zeros((L,L))\n",
    "\n",
    "    for i in range(0,L):\n",
    "        for k in range(0,L):\n",
    "            D[i,k] = L2(X1[i,:],X2[i,:])\n",
    "\n",
    "    return mNorm(D)\n",
    "\n",
    "def supDist(X1,X2):\n",
    "    L = np.shape(X1)[0]\n",
    "    D = np.zeros(L)\n",
    "\n",
    "    for i in range(0,L):\n",
    "        D[i] = L2(X1[i,:],X2[i,:])\n",
    "    \n",
    "    return np.max(D)\n",
    "\n",
    "def weightedCompWiseDist(X1,X2,omega):\n",
    "    L = np.shape(X1)[0]\n",
    "    D = np.zeros(L)\n",
    "\n",
    "    for i in range(0,L):\n",
    "        D[i] = L2(X1[i,:],X2[i,:])\n",
    "    \n",
    "    return np.sum(D*omega)\n",
    "   \n",
    "def distDist(X1,X2):\n",
    "    L = np.shape(X1)[0]\n",
    "    D = np.zeros(L)\n",
    "\n",
    "    for i in range(0,L):\n",
    "        D[i] = L2(X1[i,:],X2[i,:])\n",
    "    \n",
    "    return np.linalg.norm(D)\n",
    "\n",
    "def KR_estimator(h,x,X,Y,dist_func):\n",
    "    weights = np.zeros(len(Y))\n",
    "    for i in range(len(Y)):\n",
    "        weights[i] = K(dist_func(x,X[:,:,i])/h)\n",
    "    return np.sum(weights*Y)/np.sum(weights)\n",
    "\n",
    "# Validation functions\n",
    "\n",
    "def LOOCV(X,Y,h):\n",
    "    err = np.zeros(len(Y))\n",
    "    for i in range(0,len(Y)):\n",
    "        x = X[:,:,i]\n",
    "        y = Y[i]\n",
    "        _X = X[:,:,[j for j in range(0,len(Y)) if j != i]]\n",
    "        _Y = Y[[j for j in range(0,len(Y)) if j != i]]\n",
    "        pred = KR_estimator(h,x,_X,_Y)\n",
    "        err[i] = L2(pred,y)\n",
    "    return(np.mean(err))\n",
    "\n",
    "def LOOCV_fit(X,Y,grid):\n",
    "    errs = np.zeros(len(grid))\n",
    "    for p in range(len(grid)):\n",
    "        errs[p] = LOOCV(X,Y,grid[p])\n",
    "    return grid[np.argmin(errs)]\n",
    "\n",
    "# Weighted component-wise distance for kernel regression\n",
    "\n",
    "def objective(omega:np.ndarray):\n",
    "    output = 0 \n",
    "    for i in range(len(y_true)):\n",
    "        x = design_tensor[:,:,i]\n",
    "        y = y_true[i]\n",
    "        _X = design_tensor[:,:,[j for j in range(0,len(y_true)) if j != i]]\n",
    "        _Y = y_true[[j for j in range(0,len(y_true)) if j != i]]\n",
    "        pred = KR_estimator(2,x,_X,_Y,weightedCompWiseDist,omega)\n",
    "        output += (pred-y)^2\n",
    "    return output"
   ]
  },
  {
   "cell_type": "code",
   "execution_count": null,
   "metadata": {},
   "outputs": [],
   "source": [
    "minimize(objective, x0 = np.ones(12))"
   ]
  },
  {
   "cell_type": "code",
   "execution_count": 77,
   "metadata": {},
   "outputs": [
    {
     "ename": "TypeError",
     "evalue": "weightedCompWiseDist() missing 1 required positional argument: 'omega'",
     "output_type": "error",
     "traceback": [
      "\u001b[1;31m---------------------------------------------------------------------------\u001b[0m",
      "\u001b[1;31mTypeError\u001b[0m                                 Traceback (most recent call last)",
      "\u001b[1;32mc:\\Users\\Leonardo\\Desktop\\UNIVERSITA\\MS\\I anno\\II semestre\\SL\\FINAL_PROJECT\\Nuova cartella\\PYpeline.ipynb Cell 11\u001b[0m in \u001b[0;36m1\n\u001b[1;32m----> <a href='vscode-notebook-cell:/c%3A/Users/Leonardo/Desktop/UNIVERSITA/MS/I%20anno/II%20semestre/SL/FINAL_PROJECT/Nuova%20cartella/PYpeline.ipynb#X23sZmlsZQ%3D%3D?line=0'>1</a>\u001b[0m KR_estimator(\u001b[39m2\u001b[39;49m,design_tensor[:,:,\u001b[39m0\u001b[39;49m],design_tensor[:,:,\u001b[39m1\u001b[39;49m:],y_true, weightedCompWiseDist,np\u001b[39m.\u001b[39;49mones(\u001b[39m12\u001b[39;49m))\n",
      "\u001b[1;32mc:\\Users\\Leonardo\\Desktop\\UNIVERSITA\\MS\\I anno\\II semestre\\SL\\FINAL_PROJECT\\Nuova cartella\\PYpeline.ipynb Cell 11\u001b[0m in \u001b[0;36m5\n\u001b[0;32m     <a href='vscode-notebook-cell:/c%3A/Users/Leonardo/Desktop/UNIVERSITA/MS/I%20anno/II%20semestre/SL/FINAL_PROJECT/Nuova%20cartella/PYpeline.ipynb#X23sZmlsZQ%3D%3D?line=49'>50</a>\u001b[0m weights \u001b[39m=\u001b[39m np\u001b[39m.\u001b[39mzeros(\u001b[39mlen\u001b[39m(Y))\n\u001b[0;32m     <a href='vscode-notebook-cell:/c%3A/Users/Leonardo/Desktop/UNIVERSITA/MS/I%20anno/II%20semestre/SL/FINAL_PROJECT/Nuova%20cartella/PYpeline.ipynb#X23sZmlsZQ%3D%3D?line=50'>51</a>\u001b[0m \u001b[39mfor\u001b[39;00m i \u001b[39min\u001b[39;00m \u001b[39mrange\u001b[39m(\u001b[39mlen\u001b[39m(Y)):\n\u001b[1;32m---> <a href='vscode-notebook-cell:/c%3A/Users/Leonardo/Desktop/UNIVERSITA/MS/I%20anno/II%20semestre/SL/FINAL_PROJECT/Nuova%20cartella/PYpeline.ipynb#X23sZmlsZQ%3D%3D?line=51'>52</a>\u001b[0m     weights[i] \u001b[39m=\u001b[39m K(dist_func(x,X[:,:,i])\u001b[39m/\u001b[39mh)\n\u001b[0;32m     <a href='vscode-notebook-cell:/c%3A/Users/Leonardo/Desktop/UNIVERSITA/MS/I%20anno/II%20semestre/SL/FINAL_PROJECT/Nuova%20cartella/PYpeline.ipynb#X23sZmlsZQ%3D%3D?line=52'>53</a>\u001b[0m \u001b[39mreturn\u001b[39;00m np\u001b[39m.\u001b[39msum(weights\u001b[39m*\u001b[39mY)\u001b[39m/\u001b[39mnp\u001b[39m.\u001b[39msum(weights)\n",
      "\u001b[1;31mTypeError\u001b[0m: weightedCompWiseDist() missing 1 required positional argument: 'omega'"
     ]
    }
   ],
   "source": [
    "KR_estimator(2,design_tensor[:,:,0],design_tensor[:,:,1:],y_true, weightedCompWiseDist,np.ones(12))"
   ]
  },
  {
   "cell_type": "code",
   "execution_count": null,
   "metadata": {},
   "outputs": [],
   "source": []
  }
 ],
 "metadata": {
  "kernelspec": {
   "display_name": "Python 3",
   "language": "python",
   "name": "python3"
  },
  "language_info": {
   "codemirror_mode": {
    "name": "ipython",
    "version": 3
   },
   "file_extension": ".py",
   "mimetype": "text/x-python",
   "name": "python",
   "nbconvert_exporter": "python",
   "pygments_lexer": "ipython3",
   "version": "3.10.7"
  },
  "orig_nbformat": 4
 },
 "nbformat": 4,
 "nbformat_minor": 2
}
