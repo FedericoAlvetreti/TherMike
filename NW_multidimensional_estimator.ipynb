{
 "cells": [
  {
   "cell_type": "code",
   "execution_count": 113,
   "metadata": {},
   "outputs": [],
   "source": [
    "import os \n",
    "import tqdm\n",
    "import librosa\n",
    "import numpy as np\n",
    "from matplotlib import pyplot as plt\n",
    "import skfda\n",
    "import math \n",
    "\n",
    "from scipy.optimize import minimize\n"
   ]
  },
  {
   "cell_type": "code",
   "execution_count": 114,
   "metadata": {},
   "outputs": [],
   "source": [
    "our_files = os.listdir(\"C:/Users/Leonardo/Desktop/UNIVERSITA/MS/I anno/II semestre/SL/FINAL_PROJECT/Nuova cartella/processed-recs\")\n",
    "paper_files = os.listdir(\"C:/Users/Leonardo/Desktop/UNIVERSITA/MS/I anno/II semestre/SL/FINAL_PROJECT/Nuova cartella/processed-recs-paper\")"
   ]
  },
  {
   "cell_type": "code",
   "execution_count": 115,
   "metadata": {},
   "outputs": [],
   "source": [
    "dic_2 = {file:{'Label':None,\n",
    "               'MFCC':None} for file in paper_files}"
   ]
  },
  {
   "cell_type": "code",
   "execution_count": 141,
   "metadata": {},
   "outputs": [
    {
     "name": "stderr",
     "output_type": "stream",
     "text": [
      "100%|██████████| 253/253 [00:04<00:00, 50.68it/s]\n",
      "100%|██████████| 333/333 [00:05<00:00, 66.02it/s]\n"
     ]
    }
   ],
   "source": [
    "for file in tqdm.tqdm(paper_files):\n",
    "    path = 'C:/Users/Leonardo/Desktop/UNIVERSITA/MS/I anno/II semestre/SL/FINAL_PROJECT/Nuova cartella/processed-recs-paper/' + file\n",
    "    audio, _ = librosa.load(path, sr=None)\n",
    "    dic_2[file]['MFCC'] = librosa.feature.mfcc(y=audio, sr=16000, n_mfcc=20, dct_type=2, n_fft=1012, hop_length=256, norm='ortho')\n",
    "    dic_2[file]['Label'] = float(file.split('_')[3][:-4])"
   ]
  },
  {
   "cell_type": "code",
   "execution_count": 143,
   "metadata": {},
   "outputs": [],
   "source": [
    "# Functional tool kit\n",
    "\n",
    "basis = skfda.representation.basis.Fourier(n_basis=40)\n",
    "\n",
    "def FDA_generator(array):\n",
    "    points = np.linspace(0,1,len(array))\n",
    "    fd_obj = skfda.FDataGrid(data_matrix=[array],\n",
    "                             grid_points=points)\n",
    "    return fd_obj\n",
    "\n",
    "# First transform pipeline: retrieve eGFC from the extracted features\n",
    "\n",
    "def processing(matrix, basis):\n",
    "    output = np.zeros((np.shape(matrix)[0],basis.n_basis))\n",
    "    for i in range(0,np.shape(matrix)[0]):\n",
    "        fda_obj = FDA_generator(matrix[i,])\n",
    "        output[i,:] = fda_obj.to_basis(basis).coefficients\n",
    "    return output"
   ]
  },
  {
   "cell_type": "code",
   "execution_count": 144,
   "metadata": {},
   "outputs": [
    {
     "name": "stderr",
     "output_type": "stream",
     "text": [
      "100%|██████████| 333/333 [00:14<00:00, 22.72it/s]\n"
     ]
    }
   ],
   "source": [
    "design_tensor = np.zeros((20,41,len(dic_2.values())))\n",
    "\n",
    "for i in tqdm.tqdm(range(len(dic_2.keys()))):\n",
    "    key = list(dic_2.keys())[i]\n",
    "    design_tensor[:,:,i] = processing(dic_2[key]['MFCC'],basis)\n",
    "\n",
    "y_true = np.array([dic_2[key]['Label'] for key in dic_2.keys()])"
   ]
  },
  {
   "cell_type": "code",
   "execution_count": 146,
   "metadata": {},
   "outputs": [
    {
     "data": {
      "text/plain": [
       "[<matplotlib.lines.Line2D at 0x234dbc93340>]"
      ]
     },
     "execution_count": 146,
     "metadata": {},
     "output_type": "execute_result"
    },
    {
     "data": {
      "image/png": "[encoded data removed]",
      "text/plain": [
       "<Figure size 640x480 with 1 Axes>"
      ]
     },
     "metadata": {},
     "output_type": "display_data"
    }
   ],
   "source": [
    "plt.plot(design_tensor[2,:,0])"
   ]
  },
  {
   "cell_type": "code",
   "execution_count": 147,
   "metadata": {},
   "outputs": [
    {
     "data": {
      "text/plain": [
       "(20, 41, 333)"
      ]
     },
     "execution_count": 147,
     "metadata": {},
     "output_type": "execute_result"
    }
   ],
   "source": [
    "design_tensor.shape"
   ]
  },
  {
   "cell_type": "code",
   "execution_count": 150,
   "metadata": {},
   "outputs": [],
   "source": [
    "# Non-parametric regression on a vectorial functional space \n",
    "\n",
    "def K(t):\n",
    "    return(0.5*np.exp(-0.5*(t**2)))\n",
    "\n",
    "def L2(x1,x2):\n",
    "    return np.linalg.norm(x1-x2)\n",
    "\n",
    "def weightedCompWiseDist(X1,X2,omega):\n",
    "    L = np.shape(X1)[0]\n",
    "    D = np.zeros(L)\n",
    "\n",
    "    for i in range(0,L):\n",
    "        D[i] = L2(X1[i,:],X2[i,:])\n",
    "    \n",
    "    return np.sum(D*omega)\n",
    "\n",
    "def KR_estimator(x,X,Y,omega):\n",
    "    weights = np.ones(len(Y))\n",
    "    for i in range(len(Y)):\n",
    "        weights[i] = K(weightedCompWiseDist(x,X[:,:,i],omega))\n",
    "    return np.sum(weights*Y)/np.sum(weights)  \n",
    "\n",
    "# Minimization problem objective function \n",
    "\n",
    "def objective(params):\n",
    "    omega = params[0:20]\n",
    "    output = 0\n",
    "    for i in range(len(y_true)):\n",
    "        x = design_tensor[:,:,i]\n",
    "        y = y_true[i]\n",
    "        _X = design_tensor[:,:,[j for j in range(0,len(y_true)) if j != i]]\n",
    "        _Y = y_true[[j for j in range(0,len(y_true)) if j != i]]\n",
    "        pred = KR_estimator(x,_X,_Y,omega)\n",
    "        output += (pred-y)**2\n",
    "    return np.sqrt(output/len(y_true))"
   ]
  },
  {
   "cell_type": "code",
   "execution_count": 151,
   "metadata": {},
   "outputs": [
    {
     "data": {
      "text/plain": [
       "       message: Maximum number of iterations has been exceeded.\n",
       "       success: False\n",
       "        status: 2\n",
       "           fun: 19.21410479191212\n",
       "             x: [ 8.631e-02  1.077e-01 ...  9.985e-02  9.693e-02]\n",
       "           nit: 50\n",
       "          nfev: 74\n",
       " final_simplex: (array([[ 8.631e-02,  1.077e-01, ...,  9.985e-02,\n",
       "                         9.693e-02],\n",
       "                       [ 8.222e-02,  1.042e-01, ...,  1.018e-01,\n",
       "                         9.858e-02],\n",
       "                       ...,\n",
       "                       [ 9.040e-02,  1.029e-01, ...,  1.049e-01,\n",
       "                         9.957e-02],\n",
       "                       [ 9.086e-02,  1.029e-01, ...,  9.915e-02,\n",
       "                         9.960e-02]]), array([ 1.921e+01,  1.926e+01, ...,  1.943e+01,  1.944e+01]))"
      ]
     },
     "execution_count": 151,
     "metadata": {},
     "output_type": "execute_result"
    }
   ],
   "source": [
    "minimize(objective, x0 = np.array([0.1 for j in range(20)]), options={'maxiter':50}, method='Nelder-Mead')"
   ]
  },
  {
   "cell_type": "code",
   "execution_count": 84,
   "metadata": {},
   "outputs": [],
   "source": [
    "# Tensorizing the operations\n",
    "\n",
    "def vec_L2(X1,X2):\n",
    "    return np.linalg.norm(np.sum([X1,-X2],axis=0),axis=1)\n",
    "\n",
    "def vec_weightedCompWiseDist(X1,X2,omega):\n",
    "    return vec_L2(X1,X2)*omega\n",
    "\n",
    "def vec_LOOCV(X,Y,h,omega):\n",
    "    mask = np.array([[j for j in range(0,len(Y)) if j != i] \n",
    "                        for i in range(0,len(Y))])\n",
    "    \n",
    "    LOO_design_tensor = X[:,:,mask]\n",
    "    LOO_y_true = Y[mask]\n",
    "\n",
    "    dist_tens = vec_L2(np.repeat(X[:,:,:,np.newaxis], 332, 3),LOO_design_tensor)*omega[:,:,np.newaxis]/h\n",
    "    weights = K(dist_tens)"
   ]
  },
  {
   "cell_type": "code",
   "execution_count": 139,
   "metadata": {},
   "outputs": [],
   "source": [
    "mask = np.array([[j for j in range(0,len(y_true)) if j != i] for i in range(0,len(y_true))])\n",
    "\n",
    "LOO_design_tensor = design_tensor[:,:,mask]\n",
    "LOO_y_true = y_true[mask]"
   ]
  }
 ],
 "metadata": {
  "kernelspec": {
   "display_name": "Python 3",
   "language": "python",
   "name": "python3"
  },
  "language_info": {
   "codemirror_mode": {
    "name": "ipython",
    "version": 3
   },
   "file_extension": ".py",
   "mimetype": "text/x-python",
   "name": "python",
   "nbconvert_exporter": "python",
   "pygments_lexer": "ipython3",
   "version": "3.10.7"
  },
  "orig_nbformat": 4
 },
 "nbformat": 4,
 "nbformat_minor": 2
}
